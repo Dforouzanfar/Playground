{
  "nbformat": 4,
  "nbformat_minor": 0,
  "metadata": {
    "colab": {
      "provenance": [],
      "authorship_tag": "ABX9TyO6Ni+rsdsqKlyBZTD6vteF",
      "include_colab_link": true
    },
    "kernelspec": {
      "name": "python3",
      "display_name": "Python 3"
    },
    "language_info": {
      "name": "python"
    }
  },
  "cells": [
    {
      "cell_type": "markdown",
      "metadata": {
        "id": "view-in-github",
        "colab_type": "text"
      },
      "source": [
        "<a href=\"https://colab.research.google.com/github/Dforouzanfar/Playground/blob/master/Nonsense2Word.ipynb\" target=\"_parent\"><img src=\"https://colab.research.google.com/assets/colab-badge.svg\" alt=\"Open In Colab\"/></a>"
      ]
    },
    {
      "cell_type": "code",
      "execution_count": null,
      "metadata": {
        "id": "XwLW3_wPCsas"
      },
      "outputs": [],
      "source": [
        "# Mapping of Persian characters to English keyboard characters based on QWERTY layout (or vice-versa)\n",
        "persian_to_english_map = {\n",
        "    'ض': 'q', 'ص': 'w', 'ث': 'e', 'ق': 'r', 'ف': 't', 'غ': 'y', 'ع': 'u', 'ه': 'i', 'خ': 'o', 'ح': 'p', 'ج': '[', 'چ': ']',\n",
        "    'گ': \"'\", 'ک': ';', 'م': 'l', 'ن': 'k', 'ت': 'j', 'ا': 'h', 'ل': 'g', 'ب': 'f', 'ی': 'd', 'س': 's', 'ش': 'a', 'ظ': 'z',\n",
        "    'ط': 'x', 'ز': 'c', 'ر': 'v', 'ذ': 'b', 'د': 'n', 'پ': 'm', 'و': ',', '.': '.',\n",
        "    'ْْ': 'Q', 'ٌ': 'W', 'ٍ': 'E', 'ً': 'R', 'ُ': 'T', 'ِ': 'Y', 'َ': 'U', 'ّ': 'I', ']': 'O', '[': 'P', '}': '{', '{': '}',\n",
        "    '؛': \"'\", ':': ':', '«': 'L', '»': 'K', 'ة': 'J', 'آ': 'H', 'أ': 'G', 'إ': 'F', 'ي': 'D', 'ئ': 'S', 'ؤ': 'A', 'ك': 'Z',\n",
        "    'ط': 'X', 'ژ': 'C', 'ٰ': 'V', '‌': 'B', 'ٔ': 'N', 'ء': 'M', '>': '<', '<': '>', '؟': '?'\n",
        "}\n",
        "\n",
        "english_to_persian_map = {v: k for k, v in persian_to_english_map.items()}\n",
        "\n",
        "def translate_persian_to_english(persian_text):\n",
        "    translated_text = ''\n",
        "    for char in persian_text:\n",
        "        translated_text += persian_to_english_map.get(char, char)  # Keep the character if no mapping exists\n",
        "    return translated_text\n",
        "\n",
        "def translate_english_to_persian(english_text):\n",
        "    translated_text = ''\n",
        "    for char in english_text:\n",
        "        translated_text += english_to_persian_map.get(char, char)\n",
        "    return translated_text\n",
        "\n",
        "# Infinite loop to keep asking the user until they enter a valid choice\n",
        "while True:\n",
        "    x = input(\"p2e or e2p: \").lower()\n",
        "\n",
        "    if x == 'p2e':\n",
        "        persian_input = input(\"Enter Persian text: \")\n",
        "        translated_output = translate_persian_to_english(persian_input)\n",
        "        print(f\"Translated: {translated_output}\")\n",
        "        break\n",
        "    elif x == 'e2p':\n",
        "        english_input = input(\"Enter English text: \")\n",
        "        translated_output = translate_english_to_persian(english_input)\n",
        "        print(f\"Translated: {translated_output}\")\n",
        "        break\n",
        "    else:\n",
        "        print(\"Invalid choice! Please enter 'p2e' or 'e2p'.\")"
      ]
    }
  ]
}