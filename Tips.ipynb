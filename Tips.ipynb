{
 "cells": [
  {
   "cell_type": "markdown",
   "id": "a0e6bfd4",
   "metadata": {
    "id": "a0e6bfd4"
   },
   "source": [
    "List:\n",
    "* [PWD](#PWD)\n",
    "* [os.chdir](#os.chdir)\n",
    "* [Theme of jupyter](#Theme)\n",
    "* [Style of Plot](#Style_Plot)\n",
    "* [Color of Text](#Color)\n",
    "* Summary or Detail\n",
    "* URL\n",
    "* List with Split\n",
    "* Table\n",
    "* Clear the page\n",
    "* Embed variables\n",
    "* Pip\n",
    "* Derivative\n",
    "* Virtual environment\n",
    "* Zscore Scaling\n",
    "* Reading a dataset from kaggle\n",
    "* Exclamation mark\n",
    "* Percentage sign\n",
    "* Time\n",
    "* GPU\n",
    "* Google drive"
   ]
  },
  {
   "cell_type": "markdown",
   "id": "b01195a8",
   "metadata": {
    "id": "b01195a8"
   },
   "source": [
    "<a id=\"PWD\"></a>\n",
    "# PWD\n",
    "Working directory"
   ]
  },
  {
   "cell_type": "code",
   "execution_count": null,
   "id": "46efa014",
   "metadata": {
    "id": "46efa014",
    "outputId": "34436156-c722-4796-f9b5-b62d430ce4b2"
   },
   "outputs": [
    {
     "data": {
      "text/plain": [
       "'E:\\\\Danial\\\\2) Data\\\\6) Python'"
      ]
     },
     "execution_count": 10,
     "metadata": {},
     "output_type": "execute_result"
    }
   ],
   "source": [
    "pwd"
   ]
  },
  {
   "cell_type": "code",
   "execution_count": 2,
   "id": "00eed761-dbc3-4f52-b88e-2a30ef90ec7d",
   "metadata": {},
   "outputs": [
    {
     "data": {
      "text/plain": [
       "'E:\\\\Danial\\\\2) Data\\\\6) Python'"
      ]
     },
     "execution_count": 2,
     "metadata": {},
     "output_type": "execute_result"
    }
   ],
   "source": [
    "import os\n",
    "os.getcwd()"
   ]
  },
  {
   "cell_type": "markdown",
   "id": "5e763ae6",
   "metadata": {
    "id": "5e763ae6"
   },
   "source": [
    "<a id=\"os.chdir\"></a>\n",
    "# os.chdir\n",
    "Change current directory"
   ]
  },
  {
   "cell_type": "code",
   "execution_count": null,
   "id": "a60d5635",
   "metadata": {
    "id": "a60d5635"
   },
   "outputs": [],
   "source": [
    "import os"
   ]
  },
  {
   "cell_type": "code",
   "execution_count": null,
   "id": "6c4df272",
   "metadata": {
    "id": "6c4df272"
   },
   "outputs": [],
   "source": [
    "os.chdir('E:/Danial/2) Data/6) Python')"
   ]
  },
  {
   "cell_type": "markdown",
   "id": "68aec9d3",
   "metadata": {
    "id": "68aec9d3"
   },
   "source": [
    "<a id=\"Theme\"></a>\n",
    "# Changing the theme of jupyter"
   ]
  },
  {
   "cell_type": "code",
   "execution_count": null,
   "id": "182de54c",
   "metadata": {
    "collapsed": true,
    "id": "182de54c",
    "jupyter": {
     "outputs_hidden": true
    },
    "outputId": "3259fe6c-3de5-4bd3-8f01-d77844e9c0ab"
   },
   "outputs": [
    {
     "name": "stdout",
     "output_type": "stream",
     "text": [
      "Requirement already satisfied: jupyterthemes in c:\\users\\danial_fr\\appdata\\local\\programs\\python\\python311\\lib\\site-packages (0.20.0)\n",
      "Requirement already satisfied: jupyter-core in c:\\users\\danial_fr\\appdata\\local\\programs\\python\\python311\\lib\\site-packages (from jupyterthemes) (5.1.0)\n",
      "Requirement already satisfied: notebook>=5.6.0 in c:\\users\\danial_fr\\appdata\\local\\programs\\python\\python311\\lib\\site-packages (from jupyterthemes) (6.5.2)\n",
      "Requirement already satisfied: ipython>=5.4.1 in c:\\users\\danial_fr\\appdata\\local\\programs\\python\\python311\\lib\\site-packages (from jupyterthemes) (8.7.0)\n",
      "Requirement already satisfied: matplotlib>=1.4.3 in c:\\users\\danial_fr\\appdata\\local\\programs\\python\\python311\\lib\\site-packages (from jupyterthemes) (3.6.2)\n",
      "Requirement already satisfied: lesscpy>=0.11.2 in c:\\users\\danial_fr\\appdata\\local\\programs\\python\\python311\\lib\\site-packages (from jupyterthemes) (0.15.1)\n",
      "Requirement already satisfied: backcall in c:\\users\\danial_fr\\appdata\\local\\programs\\python\\python311\\lib\\site-packages (from ipython>=5.4.1->jupyterthemes) (0.2.0)\n",
      "Requirement already satisfied: decorator in c:\\users\\danial_fr\\appdata\\local\\programs\\python\\python311\\lib\\site-packages (from ipython>=5.4.1->jupyterthemes) (5.1.1)\n",
      "Requirement already satisfied: jedi>=0.16 in c:\\users\\danial_fr\\appdata\\local\\programs\\python\\python311\\lib\\site-packages (from ipython>=5.4.1->jupyterthemes) (0.18.2)\n",
      "Requirement already satisfied: matplotlib-inline in c:\\users\\danial_fr\\appdata\\local\\programs\\python\\python311\\lib\\site-packages (from ipython>=5.4.1->jupyterthemes) (0.1.6)\n",
      "Requirement already satisfied: pickleshare in c:\\users\\danial_fr\\appdata\\local\\programs\\python\\python311\\lib\\site-packages (from ipython>=5.4.1->jupyterthemes) (0.7.5)\n",
      "Requirement already satisfied: prompt-toolkit<3.1.0,>=3.0.11 in c:\\users\\danial_fr\\appdata\\local\\programs\\python\\python311\\lib\\site-packages (from ipython>=5.4.1->jupyterthemes) (3.0.33)\n",
      "Requirement already satisfied: pygments>=2.4.0 in c:\\users\\danial_fr\\appdata\\local\\programs\\python\\python311\\lib\\site-packages (from ipython>=5.4.1->jupyterthemes) (2.13.0)\n",
      "Requirement already satisfied: stack-data in c:\\users\\danial_fr\\appdata\\local\\programs\\python\\python311\\lib\\site-packages (from ipython>=5.4.1->jupyterthemes) (0.6.2)\n",
      "Requirement already satisfied: traitlets>=5 in c:\\users\\danial_fr\\appdata\\local\\programs\\python\\python311\\lib\\site-packages (from ipython>=5.4.1->jupyterthemes) (5.6.0)\n",
      "Requirement already satisfied: colorama in c:\\users\\danial_fr\\appdata\\local\\programs\\python\\python311\\lib\\site-packages (from ipython>=5.4.1->jupyterthemes) (0.4.6)\n",
      "Requirement already satisfied: ply in c:\\users\\danial_fr\\appdata\\local\\programs\\python\\python311\\lib\\site-packages (from lesscpy>=0.11.2->jupyterthemes) (3.11)\n",
      "Requirement already satisfied: contourpy>=1.0.1 in c:\\users\\danial_fr\\appdata\\local\\programs\\python\\python311\\lib\\site-packages (from matplotlib>=1.4.3->jupyterthemes) (1.0.6)\n",
      "Requirement already satisfied: cycler>=0.10 in c:\\users\\danial_fr\\appdata\\local\\programs\\python\\python311\\lib\\site-packages (from matplotlib>=1.4.3->jupyterthemes) (0.11.0)\n",
      "Requirement already satisfied: fonttools>=4.22.0 in c:\\users\\danial_fr\\appdata\\local\\programs\\python\\python311\\lib\\site-packages (from matplotlib>=1.4.3->jupyterthemes) (4.38.0)\n",
      "Requirement already satisfied: kiwisolver>=1.0.1 in c:\\users\\danial_fr\\appdata\\local\\programs\\python\\python311\\lib\\site-packages (from matplotlib>=1.4.3->jupyterthemes) (1.4.4)\n",
      "Requirement already satisfied: numpy>=1.19 in c:\\users\\danial_fr\\appdata\\local\\programs\\python\\python311\\lib\\site-packages (from matplotlib>=1.4.3->jupyterthemes) (1.23.5)\n",
      "Requirement already satisfied: packaging>=20.0 in c:\\users\\danial_fr\\appdata\\local\\programs\\python\\python311\\lib\\site-packages (from matplotlib>=1.4.3->jupyterthemes) (21.3)\n",
      "Requirement already satisfied: pillow>=6.2.0 in c:\\users\\danial_fr\\appdata\\local\\programs\\python\\python311\\lib\\site-packages (from matplotlib>=1.4.3->jupyterthemes) (9.3.0)\n",
      "Requirement already satisfied: pyparsing>=2.2.1 in c:\\users\\danial_fr\\appdata\\local\\programs\\python\\python311\\lib\\site-packages (from matplotlib>=1.4.3->jupyterthemes) (3.0.9)\n",
      "Requirement already satisfied: python-dateutil>=2.7 in c:\\users\\danial_fr\\appdata\\local\\programs\\python\\python311\\lib\\site-packages (from matplotlib>=1.4.3->jupyterthemes) (2.8.2)\n",
      "Requirement already satisfied: jinja2 in c:\\users\\danial_fr\\appdata\\local\\programs\\python\\python311\\lib\\site-packages (from notebook>=5.6.0->jupyterthemes) (3.1.2)\n",
      "Requirement already satisfied: tornado>=6.1 in c:\\users\\danial_fr\\appdata\\local\\programs\\python\\python311\\lib\\site-packages (from notebook>=5.6.0->jupyterthemes) (6.2)\n",
      "Requirement already satisfied: pyzmq>=17 in c:\\users\\danial_fr\\appdata\\local\\programs\\python\\python311\\lib\\site-packages (from notebook>=5.6.0->jupyterthemes) (24.0.1)\n",
      "Requirement already satisfied: argon2-cffi in c:\\users\\danial_fr\\appdata\\local\\programs\\python\\python311\\lib\\site-packages (from notebook>=5.6.0->jupyterthemes) (21.3.0)\n",
      "Requirement already satisfied: jupyter-client>=5.3.4 in c:\\users\\danial_fr\\appdata\\local\\programs\\python\\python311\\lib\\site-packages (from notebook>=5.6.0->jupyterthemes) (7.4.7)\n",
      "Requirement already satisfied: ipython-genutils in c:\\users\\danial_fr\\appdata\\local\\programs\\python\\python311\\lib\\site-packages (from notebook>=5.6.0->jupyterthemes) (0.2.0)\n",
      "Requirement already satisfied: nbformat in c:\\users\\danial_fr\\appdata\\local\\programs\\python\\python311\\lib\\site-packages (from notebook>=5.6.0->jupyterthemes) (5.7.0)\n",
      "Requirement already satisfied: nbconvert>=5 in c:\\users\\danial_fr\\appdata\\local\\programs\\python\\python311\\lib\\site-packages (from notebook>=5.6.0->jupyterthemes) (7.2.5)\n",
      "Requirement already satisfied: nest-asyncio>=1.5 in c:\\users\\danial_fr\\appdata\\local\\programs\\python\\python311\\lib\\site-packages (from notebook>=5.6.0->jupyterthemes) (1.5.6)\n",
      "Requirement already satisfied: ipykernel in c:\\users\\danial_fr\\appdata\\local\\programs\\python\\python311\\lib\\site-packages (from notebook>=5.6.0->jupyterthemes) (6.18.2)\n",
      "Requirement already satisfied: Send2Trash>=1.8.0 in c:\\users\\danial_fr\\appdata\\local\\programs\\python\\python311\\lib\\site-packages (from notebook>=5.6.0->jupyterthemes) (1.8.0)\n",
      "Requirement already satisfied: terminado>=0.8.3 in c:\\users\\danial_fr\\appdata\\local\\programs\\python\\python311\\lib\\site-packages (from notebook>=5.6.0->jupyterthemes) (0.17.0)\n",
      "Requirement already satisfied: prometheus-client in c:\\users\\danial_fr\\appdata\\local\\programs\\python\\python311\\lib\\site-packages (from notebook>=5.6.0->jupyterthemes) (0.15.0)\n",
      "Requirement already satisfied: nbclassic>=0.4.7 in c:\\users\\danial_fr\\appdata\\local\\programs\\python\\python311\\lib\\site-packages (from notebook>=5.6.0->jupyterthemes) (0.4.8)\n",
      "Requirement already satisfied: platformdirs>=2.5 in c:\\users\\danial_fr\\appdata\\local\\programs\\python\\python311\\lib\\site-packages (from jupyter-core->jupyterthemes) (2.5.4)\n",
      "Requirement already satisfied: pywin32>=1.0 in c:\\users\\danial_fr\\appdata\\local\\programs\\python\\python311\\lib\\site-packages (from jupyter-core->jupyterthemes) (305)\n",
      "Requirement already satisfied: parso<0.9.0,>=0.8.0 in c:\\users\\danial_fr\\appdata\\local\\programs\\python\\python311\\lib\\site-packages (from jedi>=0.16->ipython>=5.4.1->jupyterthemes) (0.8.3)\n",
      "Requirement already satisfied: entrypoints in c:\\users\\danial_fr\\appdata\\local\\programs\\python\\python311\\lib\\site-packages (from jupyter-client>=5.3.4->notebook>=5.6.0->jupyterthemes) (0.4)\n",
      "Requirement already satisfied: jupyter-server>=1.8 in c:\\users\\danial_fr\\appdata\\local\\programs\\python\\python311\\lib\\site-packages (from nbclassic>=0.4.7->notebook>=5.6.0->jupyterthemes) (1.23.3)\n",
      "Requirement already satisfied: notebook-shim>=0.1.0 in c:\\users\\danial_fr\\appdata\\local\\programs\\python\\python311\\lib\\site-packages (from nbclassic>=0.4.7->notebook>=5.6.0->jupyterthemes) (0.2.2)\n",
      "Requirement already satisfied: beautifulsoup4 in c:\\users\\danial_fr\\appdata\\local\\programs\\python\\python311\\lib\\site-packages (from nbconvert>=5->notebook>=5.6.0->jupyterthemes) (4.11.1)\n",
      "Requirement already satisfied: bleach in c:\\users\\danial_fr\\appdata\\local\\programs\\python\\python311\\lib\\site-packages (from nbconvert>=5->notebook>=5.6.0->jupyterthemes) (5.0.1)\n",
      "Requirement already satisfied: defusedxml in c:\\users\\danial_fr\\appdata\\local\\programs\\python\\python311\\lib\\site-packages (from nbconvert>=5->notebook>=5.6.0->jupyterthemes) (0.7.1)\n",
      "Requirement already satisfied: jupyterlab-pygments in c:\\users\\danial_fr\\appdata\\local\\programs\\python\\python311\\lib\\site-packages (from nbconvert>=5->notebook>=5.6.0->jupyterthemes) (0.2.2)\n",
      "Requirement already satisfied: markupsafe>=2.0 in c:\\users\\danial_fr\\appdata\\local\\programs\\python\\python311\\lib\\site-packages (from nbconvert>=5->notebook>=5.6.0->jupyterthemes) (2.1.1)\n",
      "Requirement already satisfied: mistune<3,>=2.0.3 in c:\\users\\danial_fr\\appdata\\local\\programs\\python\\python311\\lib\\site-packages (from nbconvert>=5->notebook>=5.6.0->jupyterthemes) (2.0.4)\n",
      "Requirement already satisfied: nbclient>=0.5.0 in c:\\users\\danial_fr\\appdata\\local\\programs\\python\\python311\\lib\\site-packages (from nbconvert>=5->notebook>=5.6.0->jupyterthemes) (0.7.1)\n",
      "Requirement already satisfied: pandocfilters>=1.4.1 in c:\\users\\danial_fr\\appdata\\local\\programs\\python\\python311\\lib\\site-packages (from nbconvert>=5->notebook>=5.6.0->jupyterthemes) (1.5.0)\n",
      "Requirement already satisfied: tinycss2 in c:\\users\\danial_fr\\appdata\\local\\programs\\python\\python311\\lib\\site-packages (from nbconvert>=5->notebook>=5.6.0->jupyterthemes) (1.2.1)\n",
      "Requirement already satisfied: fastjsonschema in c:\\users\\danial_fr\\appdata\\local\\programs\\python\\python311\\lib\\site-packages (from nbformat->notebook>=5.6.0->jupyterthemes) (2.16.2)\n",
      "Requirement already satisfied: jsonschema>=2.6 in c:\\users\\danial_fr\\appdata\\local\\programs\\python\\python311\\lib\\site-packages (from nbformat->notebook>=5.6.0->jupyterthemes) (4.17.1)\n",
      "Requirement already satisfied: wcwidth in c:\\users\\danial_fr\\appdata\\local\\programs\\python\\python311\\lib\\site-packages (from prompt-toolkit<3.1.0,>=3.0.11->ipython>=5.4.1->jupyterthemes) (0.2.5)\n",
      "Requirement already satisfied: six>=1.5 in c:\\users\\danial_fr\\appdata\\local\\programs\\python\\python311\\lib\\site-packages (from python-dateutil>=2.7->matplotlib>=1.4.3->jupyterthemes) (1.16.0)\n",
      "Requirement already satisfied: pywinpty>=1.1.0 in c:\\users\\danial_fr\\appdata\\local\\programs\\python\\python311\\lib\\site-packages (from terminado>=0.8.3->notebook>=5.6.0->jupyterthemes) (2.0.9)\n",
      "Requirement already satisfied: argon2-cffi-bindings in c:\\users\\danial_fr\\appdata\\local\\programs\\python\\python311\\lib\\site-packages (from argon2-cffi->notebook>=5.6.0->jupyterthemes) (21.2.0)\n",
      "Requirement already satisfied: comm>=0.1 in c:\\users\\danial_fr\\appdata\\local\\programs\\python\\python311\\lib\\site-packages (from ipykernel->notebook>=5.6.0->jupyterthemes) (0.1.1)\n",
      "Requirement already satisfied: debugpy>=1.0 in c:\\users\\danial_fr\\appdata\\local\\programs\\python\\python311\\lib\\site-packages (from ipykernel->notebook>=5.6.0->jupyterthemes) (1.6.4)\n",
      "Requirement already satisfied: psutil in c:\\users\\danial_fr\\appdata\\local\\programs\\python\\python311\\lib\\site-packages (from ipykernel->notebook>=5.6.0->jupyterthemes) (5.9.4)\n",
      "Requirement already satisfied: executing>=1.2.0 in c:\\users\\danial_fr\\appdata\\local\\programs\\python\\python311\\lib\\site-packages (from stack-data->ipython>=5.4.1->jupyterthemes) (1.2.0)\n",
      "Requirement already satisfied: asttokens>=2.1.0 in c:\\users\\danial_fr\\appdata\\local\\programs\\python\\python311\\lib\\site-packages (from stack-data->ipython>=5.4.1->jupyterthemes) (2.2.0)\n",
      "Requirement already satisfied: pure-eval in c:\\users\\danial_fr\\appdata\\local\\programs\\python\\python311\\lib\\site-packages (from stack-data->ipython>=5.4.1->jupyterthemes) (0.2.2)\n",
      "Requirement already satisfied: attrs>=17.4.0 in c:\\users\\danial_fr\\appdata\\local\\programs\\python\\python311\\lib\\site-packages (from jsonschema>=2.6->nbformat->notebook>=5.6.0->jupyterthemes) (22.1.0)\n",
      "Requirement already satisfied: pyrsistent!=0.17.0,!=0.17.1,!=0.17.2,>=0.14.0 in c:\\users\\danial_fr\\appdata\\local\\programs\\python\\python311\\lib\\site-packages (from jsonschema>=2.6->nbformat->notebook>=5.6.0->jupyterthemes) (0.19.2)\n",
      "Requirement already satisfied: anyio<4,>=3.1.0 in c:\\users\\danial_fr\\appdata\\local\\programs\\python\\python311\\lib\\site-packages (from jupyter-server>=1.8->nbclassic>=0.4.7->notebook>=5.6.0->jupyterthemes) (3.6.2)\n",
      "Requirement already satisfied: websocket-client in c:\\users\\danial_fr\\appdata\\local\\programs\\python\\python311\\lib\\site-packages (from jupyter-server>=1.8->nbclassic>=0.4.7->notebook>=5.6.0->jupyterthemes) (1.4.2)\n",
      "Requirement already satisfied: cffi>=1.0.1 in c:\\users\\danial_fr\\appdata\\local\\programs\\python\\python311\\lib\\site-packages (from argon2-cffi-bindings->argon2-cffi->notebook>=5.6.0->jupyterthemes) (1.15.1)\n",
      "Requirement already satisfied: soupsieve>1.2 in c:\\users\\danial_fr\\appdata\\local\\programs\\python\\python311\\lib\\site-packages (from beautifulsoup4->nbconvert>=5->notebook>=5.6.0->jupyterthemes) (2.3.2.post1)\n",
      "Requirement already satisfied: webencodings in c:\\users\\danial_fr\\appdata\\local\\programs\\python\\python311\\lib\\site-packages (from bleach->nbconvert>=5->notebook>=5.6.0->jupyterthemes) (0.5.1)\n",
      "Requirement already satisfied: idna>=2.8 in c:\\users\\danial_fr\\appdata\\local\\programs\\python\\python311\\lib\\site-packages (from anyio<4,>=3.1.0->jupyter-server>=1.8->nbclassic>=0.4.7->notebook>=5.6.0->jupyterthemes) (3.4)\n",
      "Requirement already satisfied: sniffio>=1.1 in c:\\users\\danial_fr\\appdata\\local\\programs\\python\\python311\\lib\\site-packages (from anyio<4,>=3.1.0->jupyter-server>=1.8->nbclassic>=0.4.7->notebook>=5.6.0->jupyterthemes) (1.3.0)\n",
      "Requirement already satisfied: pycparser in c:\\users\\danial_fr\\appdata\\local\\programs\\python\\python311\\lib\\site-packages (from cffi>=1.0.1->argon2-cffi-bindings->argon2-cffi->notebook>=5.6.0->jupyterthemes) (2.21)\n",
      "Note: you may need to restart the kernel to use updated packages.\n"
     ]
    },
    {
     "name": "stderr",
     "output_type": "stream",
     "text": [
      "\n",
      "[notice] A new release of pip available: 22.3.1 -> 23.0.1\n",
      "[notice] To update, run: python.exe -m pip install --upgrade pip\n"
     ]
    }
   ],
   "source": [
    "pip install jupyterthemes"
   ]
  },
  {
   "cell_type": "code",
   "execution_count": null,
   "id": "6dbf5b20",
   "metadata": {
    "id": "6dbf5b20"
   },
   "outputs": [],
   "source": [
    "from jupyterthemes import get_themes\n",
    "import jupyterthemes as jt\n",
    "from jupyterthemes.stylefx import set_nb_theme"
   ]
  },
  {
   "cell_type": "code",
   "execution_count": null,
   "id": "b017baa1",
   "metadata": {
    "id": "b017baa1"
   },
   "outputs": [],
   "source": [
    "set_nb_theme('monokai')"
   ]
  },
  {
   "cell_type": "markdown",
   "id": "2688af45",
   "metadata": {
    "id": "2688af45"
   },
   "source": [
    "### Themes:\n",
    "* monokai,\n",
    "* chesterish\n",
    "* oceans16\n",
    "* solarizedl\n",
    "* solarizedd\n",
    "* grade3\n",
    "* onedork"
   ]
  },
  {
   "cell_type": "markdown",
   "id": "5ff41615",
   "metadata": {
    "id": "5ff41615"
   },
   "source": [
    "#### To remove the theme to the default:"
   ]
  },
  {
   "cell_type": "code",
   "execution_count": null,
   "id": "edc52c6c",
   "metadata": {
    "collapsed": true,
    "id": "edc52c6c",
    "jupyter": {
     "outputs_hidden": true
    },
    "outputId": "d850742d-d5ee-4f29-a0db-05327919f35c"
   },
   "outputs": [
    {
     "ename": "NameError",
     "evalue": "name 'jt' is not defined",
     "output_type": "error",
     "traceback": [
      "\u001b[1;31m---------------------------------------------------------------------------\u001b[0m",
      "\u001b[1;31mNameError\u001b[0m                                 Traceback (most recent call last)",
      "Cell \u001b[1;32mIn[2], line 1\u001b[0m\n\u001b[1;32m----> 1\u001b[0m \u001b[43mjt\u001b[49m \u001b[38;5;241m-\u001b[39mr\n\u001b[0;32m      2\u001b[0m \u001b[38;5;66;03m# in cmd\u001b[39;00m\n",
      "\u001b[1;31mNameError\u001b[0m: name 'jt' is not defined"
     ]
    }
   ],
   "source": [
    "jt -r\n",
    "# in cmd"
   ]
  },
  {
   "cell_type": "markdown",
   "id": "b438cbec",
   "metadata": {
    "id": "b438cbec"
   },
   "source": [
    "<a id=\"Style_Plot\"></a>\n",
    "# Changing the style of plots"
   ]
  },
  {
   "cell_type": "code",
   "execution_count": null,
   "id": "72e7f5c9",
   "metadata": {
    "id": "72e7f5c9"
   },
   "outputs": [],
   "source": [
    "plt.style.use(\"seaborn\")"
   ]
  },
  {
   "cell_type": "markdown",
   "id": "beb511d9",
   "metadata": {
    "id": "beb511d9"
   },
   "source": [
    "'Solarize_Light2', '_classic_test_patch', 'bmh', 'classic', 'dark_background', 'fast', <font color = \"Red\">'fivethirtyeight'</font>, <font color = \"Red\">'ggplot'</font>, 'grayscale', <font color = \"Red\">'seaborn'</font>,'seaborn-bright', 'seaborn-colorblind', 'seaborn-dark', 'seaborn-dark-palette', 'seaborn-darkgrid', 'seaborn-deep', 'seaborn-muted', 'seaborn-notebook', 'seaborn-paper', 'seaborn-pastel', 'seaborn-poster', 'seaborn-talk', 'seaborn-ticks', 'seaborn-white', 'seaborn-whitegrid', 'tableau-colorblind10'"
   ]
  },
  {
   "cell_type": "markdown",
   "id": "ece771e7",
   "metadata": {
    "id": "ece771e7"
   },
   "source": [
    "<a id=\"Color\"></a>\n",
    "# Color of Text"
   ]
  },
  {
   "cell_type": "markdown",
   "id": "8886a1c6",
   "metadata": {
    "id": "8886a1c6"
   },
   "source": [
    "<summary><font color = \"Red\", size = \"5\"> Matplotlib </font><summary>"
   ]
  },
  {
   "cell_type": "code",
   "execution_count": null,
   "id": "e4d45de3",
   "metadata": {
    "id": "e4d45de3"
   },
   "outputs": [],
   "source": [
    "<summary><font color = \"Red\", size = \"5\"> Matplotlib </font><summary>"
   ]
  },
  {
   "cell_type": "markdown",
   "id": "21e5d47d",
   "metadata": {
    "id": "21e5d47d"
   },
   "source": [
    "# Summary or Detail"
   ]
  },
  {
   "cell_type": "markdown",
   "id": "d06c8b03",
   "metadata": {
    "id": "d06c8b03"
   },
   "source": [
    "<details><summary><font size='5', color='darkgreen'><b>Hints</b></font></summary>\n",
    "    <p><ul><li> Try $w = 200$ and $b = 100$</li></ul></p></details>"
   ]
  },
  {
   "cell_type": "code",
   "execution_count": null,
   "id": "859a9514",
   "metadata": {
    "id": "859a9514"
   },
   "outputs": [],
   "source": [
    "# <details><summary><font size='5', color='darkgreen'><b>Hints</b></font></summary>\n",
    "    <p><ul><li> Try $w = 200$ and $b = 100$</li></ul></p></details>"
   ]
  },
  {
   "cell_type": "markdown",
   "id": "10ab553d",
   "metadata": {
    "id": "10ab553d"
   },
   "source": [
    "# hyperlinks to a Markdown cell within the same Jupyter Notebook."
   ]
  },
  {
   "cell_type": "markdown",
   "id": "62e1ba79",
   "metadata": {
    "id": "62e1ba79"
   },
   "source": [
    "First, create an anchor point within the destination Markdown cell where you want the hyperlink to lead."
   ]
  },
  {
   "cell_type": "code",
   "execution_count": null,
   "id": "0059fbb7",
   "metadata": {
    "id": "0059fbb7"
   },
   "outputs": [],
   "source": [
    "# <a id=\"my-section\"></a>"
   ]
  },
  {
   "cell_type": "markdown",
   "id": "c0c08565",
   "metadata": {
    "id": "c0c08565"
   },
   "source": [
    "In the source Markdown cell, create a hyperlink that points to the anchor you just created."
   ]
  },
  {
   "cell_type": "code",
   "execution_count": null,
   "id": "a4e1864e",
   "metadata": {
    "id": "a4e1864e"
   },
   "outputs": [],
   "source": [
    "# [Text](#my-section)"
   ]
  },
  {
   "cell_type": "markdown",
   "id": "190b127b",
   "metadata": {
    "id": "190b127b"
   },
   "source": [
    "<a href=\"#List_with_split\">List with split</a>"
   ]
  },
  {
   "cell_type": "code",
   "execution_count": null,
   "id": "40fd25d7",
   "metadata": {
    "id": "40fd25d7"
   },
   "outputs": [],
   "source": [
    "<a href=\"#List_with_split\">List with split</a>"
   ]
  },
  {
   "cell_type": "markdown",
   "id": "1213820a",
   "metadata": {
    "id": "1213820a"
   },
   "source": [
    "[List with split](#List_with_split)"
   ]
  },
  {
   "cell_type": "code",
   "execution_count": null,
   "id": "5ca8d87b",
   "metadata": {
    "id": "5ca8d87b"
   },
   "outputs": [],
   "source": [
    "[List with split](#List_with_split)"
   ]
  },
  {
   "cell_type": "markdown",
   "id": "f0115527",
   "metadata": {
    "id": "f0115527"
   },
   "source": [
    "# URL"
   ]
  },
  {
   "cell_type": "markdown",
   "id": "b3966845",
   "metadata": {
    "id": "b3966845"
   },
   "source": [
    "<font size = \"3\"><a href=\"https://www.varzesh3.com/\">Click here for going to varzesh3</a></font>"
   ]
  },
  {
   "cell_type": "code",
   "execution_count": null,
   "id": "cc4fbda0",
   "metadata": {
    "collapsed": true,
    "id": "cc4fbda0",
    "jupyter": {
     "outputs_hidden": true
    },
    "outputId": "195a6184-5f3d-465d-ce80-2db00535bbfe"
   },
   "outputs": [
    {
     "ename": "SyntaxError",
     "evalue": "invalid syntax (1835840197.py, line 1)",
     "output_type": "error",
     "traceback": [
      "\u001b[1;36m  Cell \u001b[1;32mIn[3], line 1\u001b[1;36m\u001b[0m\n\u001b[1;33m    <font size = \"10\"><a href=\"https://www.varzesh3.com/\">Click here for going to varzesh3</a></font>\u001b[0m\n\u001b[1;37m    ^\u001b[0m\n\u001b[1;31mSyntaxError\u001b[0m\u001b[1;31m:\u001b[0m invalid syntax\n"
     ]
    }
   ],
   "source": [
    "<a href=\"https://www.varzesh3.com/\">Click here for going to varzesh3</a>"
   ]
  },
  {
   "cell_type": "markdown",
   "id": "3f514783",
   "metadata": {
    "id": "3f514783"
   },
   "source": [
    "[Click here for going to varzesh3](https://www.varzesh3.com/)"
   ]
  },
  {
   "cell_type": "markdown",
   "id": "771048a3",
   "metadata": {
    "id": "771048a3"
   },
   "source": [
    "[Link Text](URL)\n",
    "[Click here for going to varzesh3](https://www.varzesh3.com/)"
   ]
  },
  {
   "cell_type": "markdown",
   "id": "1437e104",
   "metadata": {
    "id": "1437e104"
   },
   "source": [
    "<a id=\"List_with_split\"></a>\n",
    "# List with Split"
   ]
  },
  {
   "cell_type": "code",
   "execution_count": null,
   "id": "a669faed",
   "metadata": {
    "id": "a669faed"
   },
   "outputs": [],
   "source": [
    "x = ['A', 'B', 'C', 'D', 'E', 'F']\n",
    "y = 'A B C D E F'.split()"
   ]
  },
  {
   "cell_type": "code",
   "execution_count": null,
   "id": "0385f72f",
   "metadata": {
    "id": "0385f72f",
    "outputId": "f9e37ad8-5cc1-4a59-8326-3c00e708584f"
   },
   "outputs": [
    {
     "name": "stdout",
     "output_type": "stream",
     "text": [
      "x = ['A', 'B', 'C', 'D', 'E', 'F'], type of x is <class 'list'> \n",
      "y = ['A', 'B', 'C', 'D', 'E', 'F'], type of y is <class 'list'>\n",
      "x is equal to y: True\n"
     ]
    }
   ],
   "source": [
    "print(f'x = {x}, type of x is {type(x)} \\ny = {y}, type of y is {type(y)}\\nx is equal to y: {x == y}')"
   ]
  },
  {
   "cell_type": "markdown",
   "id": "673f83f9",
   "metadata": {
    "id": "673f83f9"
   },
   "source": [
    "# Table"
   ]
  },
  {
   "cell_type": "markdown",
   "id": "ff42e365",
   "metadata": {
    "id": "ff42e365"
   },
   "source": [
    "| Size (sqft) | Number of Bedrooms  | Number of floors | Age of  Home | Price (1000s dollars)  |   \n",
    "| ----------------| ------------------- |----------------- |--------------|-------------- |  \n",
    "| 2104            | 5                   | 1                | 45           | 460           |  \n",
    "| 1416            | 3                   | 2                | 40           | 232           |  \n",
    "| 852             | 2                   | 1                | 35           | 178           |  "
   ]
  },
  {
   "cell_type": "code",
   "execution_count": null,
   "id": "cc53f580",
   "metadata": {
    "collapsed": true,
    "id": "cc53f580",
    "jupyter": {
     "outputs_hidden": true
    },
    "outputId": "84a9bc4a-1184-47b4-b573-22b4b98466be"
   },
   "outputs": [
    {
     "ename": "SyntaxError",
     "evalue": "invalid decimal literal (1233412166.py, line 1)",
     "output_type": "error",
     "traceback": [
      "\u001b[1;36m  Cell \u001b[1;32mIn[1], line 1\u001b[1;36m\u001b[0m\n\u001b[1;33m    | Size (sqft) | Number of Bedrooms  | Number of floors | Age of  Home | Price (1000s dollars)  |\u001b[0m\n\u001b[1;37m                                                                                      ^\u001b[0m\n\u001b[1;31mSyntaxError\u001b[0m\u001b[1;31m:\u001b[0m invalid decimal literal\n"
     ]
    }
   ],
   "source": [
    "| Size (sqft) | Number of Bedrooms  | Number of floors | Age of  Home | Price (1000s dollars)  |\n",
    "| ----------------| ------------------- |----------------- |--------------|-------------- |\n",
    "| 2104            | 5                   | 1                | 45           | 460           |\n",
    "| 1416            | 3                   | 2                | 40           | 232           |\n",
    "| 852             | 2                   | 1                | 35           | 178           |"
   ]
  },
  {
   "cell_type": "markdown",
   "id": "3d3a0d52",
   "metadata": {
    "id": "3d3a0d52"
   },
   "source": [
    "# Clear the page"
   ]
  },
  {
   "cell_type": "code",
   "execution_count": null,
   "id": "04453b9d",
   "metadata": {
    "id": "04453b9d"
   },
   "outputs": [],
   "source": [
    "import os"
   ]
  },
  {
   "cell_type": "code",
   "execution_count": null,
   "id": "3fafe069",
   "metadata": {
    "id": "3fafe069"
   },
   "outputs": [],
   "source": [
    "os.system('cls')"
   ]
  },
  {
   "cell_type": "markdown",
   "id": "8e9f0af9",
   "metadata": {
    "id": "8e9f0af9"
   },
   "source": [
    "# Embed variables"
   ]
  },
  {
   "cell_type": "code",
   "execution_count": null,
   "id": "7d3efe65",
   "metadata": {
    "id": "7d3efe65",
    "outputId": "1550a67d-431f-489d-f720-5bb34a207bca"
   },
   "outputs": [
    {
     "name": "stdout",
     "output_type": "stream",
     "text": [
      "Please insert your name: Danial\n",
      "Please insert your last name: Forouzanfar\n",
      "I am Danial Forouzanfar\n",
      "I am Danial Forouzanfar\n"
     ]
    }
   ],
   "source": [
    "name = input(\"Please insert your name: \")\n",
    "last_name = input(\"Please insert your last name: \")\n",
    "print(f\"I am {name} {last_name}\")\n",
    "print(\"I am %s %s\" % (name, last_name))"
   ]
  },
  {
   "cell_type": "markdown",
   "id": "686cff51",
   "metadata": {
    "id": "686cff51"
   },
   "source": [
    "# Pip"
   ]
  },
  {
   "cell_type": "markdown",
   "id": "16ba1349",
   "metadata": {
    "id": "16ba1349"
   },
   "source": [
    "command pip freeze give us all the packages that we installed\n",
    "pip freeze"
   ]
  },
  {
   "cell_type": "markdown",
   "id": "c6046e25",
   "metadata": {
    "id": "c6046e25"
   },
   "source": [
    "pip freeze > requirements.txt\n",
    "will make a txt file with all the packages"
   ]
  },
  {
   "cell_type": "markdown",
   "id": "d9bcf48b",
   "metadata": {
    "id": "d9bcf48b"
   },
   "source": [
    "pip install -r requirements.txt\n",
    "will read the txt file and install all of them"
   ]
  },
  {
   "cell_type": "markdown",
   "id": "d3bd9640",
   "metadata": {
    "id": "d3bd9640"
   },
   "source": [
    "# Virtual environment\n",
    "Note: We should use this before entering in python  \n",
    "#### Click <font size = \"4\"><a href=\"https://thealibigdeli.ir/courses/%D8%A2%D9%85%D9%88%D8%B2%D8%B4-%D9%BE%D8%A7%DB%8C%D8%AA%D9%88%D9%86-%D9%BE%DB%8C%D8%B4%D8%B1%D9%81%D8%AA%D9%87/%D9%86%D8%B5%D8%A8-%D9%88-%D8%A7%D8%B3%D8%AA%D9%81%D8%A7%D8%AF%D9%87-%D8%A7%D8%B2-virtualenv\">here</a></font> for going to the source  \n",
    "#### Click <font size = \"4\"><a href=\"https://maktabkhooneh.org/course/%D8%A2%D9%85%D9%88%D8%B2%D8%B4-%D8%B1%D8%A7%DB%8C%DA%AF%D8%A7%D9%86-%D9%85%D8%A8%D8%A7%D8%AD%D8%AB-%D9%BE%DB%8C%D8%B4%D8%B1%D9%81%D8%AA%D9%87-%D9%BE%D8%A7%DB%8C%D8%AA%D9%88%D9%86-mk1153/%D9%81%D8%B5%D9%84-%DB%8C%DA%A9%D9%85-%D9%85%D8%A8%D8%A7%D8%AD%D8%AB-%D9%BE%DB%8C%D8%B4%D8%B1%D9%81%D8%AA%D9%87-%D9%BE%D8%A7%DB%8C%D8%AA%D9%88%D9%86-ch3819/%D9%88%DB%8C%D8%AF%DB%8C%D9%88-%D9%86%D8%B5%D8%A8-%D8%A7%D8%B3%D8%AA%D9%81%D8%A7%D8%AF%D9%87-%D9%85%D8%AD%DB%8C%D8%B7-%D9%85%D8%AC%D8%A7%D8%B2%DB%8C-virtualenv/\">here</a></font>  for going to the video"
   ]
  },
  {
   "cell_type": "code",
   "execution_count": null,
   "id": "c5cec85a",
   "metadata": {
    "id": "c5cec85a"
   },
   "outputs": [],
   "source": [
    "python -m venv venv\n",
    "# first venv calls the venv and the second one ıs the name of our vrtual environment"
   ]
  },
  {
   "cell_type": "code",
   "execution_count": null,
   "id": "0a10ff4b",
   "metadata": {
    "id": "0a10ff4b"
   },
   "outputs": [],
   "source": [
    "# after we direct to the new directory we shoud type activate and press enter"
   ]
  },
  {
   "cell_type": "markdown",
   "id": "0ecfa129",
   "metadata": {
    "id": "0ecfa129"
   },
   "source": [
    "# Zscore Scaling"
   ]
  },
  {
   "cell_type": "code",
   "execution_count": null,
   "id": "f9050306",
   "metadata": {
    "id": "f9050306",
    "outputId": "07ffc8ab-67b3-42c3-9949-d585fe0811d0",
    "scrolled": true
   },
   "outputs": [
    {
     "name": "stdout",
     "output_type": "stream",
     "text": [
      "[-1.2493901  -1.01512945 -0.78086881 -0.78086881 -0.78086881 -0.54660817\n",
      " -0.31234752  0.62469505  0.85895569  0.85895569  1.09321633  2.0302589 ]\n"
     ]
    }
   ],
   "source": [
    "import scipy.stats as stats\n",
    "values = [4,5,6,6,6,7,8,12,13,13,14,18]\n",
    "\n",
    "zscores = stats.zscore(values)\n",
    "print(zscores)"
   ]
  },
  {
   "cell_type": "markdown",
   "id": "92024e2d",
   "metadata": {
    "id": "0ecfa129"
   },
   "source": [
    "# Reading a dataset from kaggle"
   ]
  },
  {
   "cell_type": "code",
   "execution_count": 1,
   "id": "b28ce10a",
   "metadata": {},
   "outputs": [],
   "source": [
    "import opendatasets as od\n",
    "import pandas as pd"
   ]
  },
  {
   "cell_type": "code",
   "execution_count": null,
   "id": "234a7734",
   "metadata": {},
   "outputs": [],
   "source": [
    "od.download(\n",
    "    \"https://www.kaggle.com/competitions/titanic/data\")"
   ]
  },
  {
   "cell_type": "code",
   "execution_count": null,
   "id": "e6bb3863",
   "metadata": {},
   "outputs": [],
   "source": [
    "path =('E:/Danial/2) Data/Coursera/ML_Specialization/1. Supervised Machine Learning/Classification/Logistic_Regression/titanic/train.csv')\n",
    "Titanic = pd.read_csv(path)\n",
    "\n",
    "Titanic.head()"
   ]
  },
  {
   "cell_type": "markdown",
   "id": "9674845f",
   "metadata": {
    "id": "0ecfa129"
   },
   "source": [
    "# Exclamation mark"
   ]
  },
  {
   "cell_type": "markdown",
   "id": "c21e138d",
   "metadata": {},
   "source": [
    "! at the beginning of a line in a Jupyter Notebook, it indicates that the line is a shell command, not a Python statement."
   ]
  },
  {
   "cell_type": "code",
   "execution_count": 2,
   "id": "232e14d8",
   "metadata": {
    "scrolled": true
   },
   "outputs": [
    {
     "name": "stdout",
     "output_type": "stream",
     "text": [
      "Requirement already satisfied: numpy in c:\\users\\danial_fr\\appdata\\local\\programs\\python\\python311\\lib\\site-packages (1.24.3)\n"
     ]
    },
    {
     "name": "stderr",
     "output_type": "stream",
     "text": [
      "DEPRECATION: nbclient 0.7.1 has a non-standard dependency specifier jupyter-core!=~5.0,>=4.12. pip 24.1 will enforce this behaviour change. A possible replacement is to upgrade to a newer version of nbclient or contact the author to suggest that they release a version with a conforming dependency specifiers. Discussion can be found at https://github.com/pypa/pip/issues/12063\n"
     ]
    }
   ],
   "source": [
    "!pip install numpy"
   ]
  },
  {
   "cell_type": "markdown",
   "id": "a460561d",
   "metadata": {
    "id": "0ecfa129"
   },
   "source": [
    "# Percentage sign"
   ]
  },
  {
   "cell_type": "markdown",
   "id": "2ca17fc7",
   "metadata": {},
   "source": [
    "```%``` at the beginning of a line indicates the use of \"magic\" commands. These commands are specific to the IPython kernel used by Jupyter Notebooks and provide additional functionality beyond standard Python syntax.\n",
    "\n",
    "Magic commands are used to perform a variety of tasks, such as interacting with the shell, timing code execution, debugging, and more."
   ]
  },
  {
   "cell_type": "code",
   "execution_count": 3,
   "id": "be5357d7",
   "metadata": {},
   "outputs": [],
   "source": [
    "%matplotlib inline"
   ]
  },
  {
   "cell_type": "code",
   "execution_count": 4,
   "id": "703f3ae7",
   "metadata": {
    "scrolled": true
   },
   "outputs": [
    {
     "data": {
      "text/plain": [
       "'E:\\\\Danial\\\\2) Data\\\\6) Python'"
      ]
     },
     "execution_count": 4,
     "metadata": {},
     "output_type": "execute_result"
    }
   ],
   "source": [
    "%pwd"
   ]
  },
  {
   "cell_type": "markdown",
   "id": "0eebcae8",
   "metadata": {
    "id": "0ecfa129"
   },
   "source": [
    "# Time"
   ]
  },
  {
   "cell_type": "markdown",
   "id": "fcc95b2d",
   "metadata": {},
   "source": [
    "```%%time``` is a built-in magic command that allows you to time the execution of a whole cell. It's used to measure the time taken for the entire code within the cell to execute. "
   ]
  },
  {
   "cell_type": "code",
   "execution_count": 2,
   "id": "9c6ebf7e",
   "metadata": {
    "scrolled": true
   },
   "outputs": [
    {
     "name": "stdout",
     "output_type": "stream",
     "text": [
      "Hello world\n",
      "CPU times: total: 0 ns\n",
      "Wall time: 998 µs\n"
     ]
    }
   ],
   "source": [
    "%%time\n",
    "print('Hello world')"
   ]
  },
  {
   "cell_type": "markdown",
   "id": "5c6a5f12",
   "metadata": {
    "id": "0ecfa129"
   },
   "source": [
    "# GPU"
   ]
  },
  {
   "cell_type": "code",
   "execution_count": 4,
   "id": "fd6f9a80",
   "metadata": {},
   "outputs": [],
   "source": [
    "import torch"
   ]
  },
  {
   "cell_type": "code",
   "execution_count": 5,
   "id": "4efd07b7",
   "metadata": {
    "scrolled": true
   },
   "outputs": [
    {
     "name": "stdout",
     "output_type": "stream",
     "text": [
      "GPU Model: NVIDIA GeForce MX350\n",
      "GPU Memory (MB): 2047.875\n",
      "CUDA Version: 12.1\n",
      "CPU times: total: 93.8 ms\n",
      "Wall time: 146 ms\n"
     ]
    }
   ],
   "source": [
    "def check_gpu():\n",
    "    if torch.cuda.is_available():\n",
    "        device = torch.cuda.current_device()\n",
    "        print(\"GPU Model:\", torch.cuda.get_device_name(device))\n",
    "        print(\"GPU Memory (MB):\", torch.cuda.get_device_properties(device).total_memory / 1024**2)\n",
    "        print(\"CUDA Version:\", torch.version.cuda)\n",
    "    else:\n",
    "        print(\"No GPU available, using CPU instead.\")\n",
    "\n",
    "check_gpu()"
   ]
  },
  {
   "cell_type": "markdown",
   "id": "6282b83a",
   "metadata": {
    "id": "0ecfa129"
   },
   "source": [
    "# Connect to drive"
   ]
  },
  {
   "cell_type": "code",
   "execution_count": null,
   "id": "65ee294a",
   "metadata": {},
   "outputs": [],
   "source": [
    "from google.colab import drive\n",
    "drive.mount('/content/drive')"
   ]
  }
 ],
 "metadata": {
  "colab": {
   "provenance": []
  },
  "kernelspec": {
   "display_name": "Python 3 (ipykernel)",
   "language": "python",
   "name": "python3"
  },
  "language_info": {
   "codemirror_mode": {
    "name": "ipython",
    "version": 3
   },
   "file_extension": ".py",
   "mimetype": "text/x-python",
   "name": "python",
   "nbconvert_exporter": "python",
   "pygments_lexer": "ipython3",
   "version": "3.11.0"
  }
 },
 "nbformat": 4,
 "nbformat_minor": 5
}
