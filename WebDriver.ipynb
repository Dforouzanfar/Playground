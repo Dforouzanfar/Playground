{
 "cells": [
  {
   "cell_type": "markdown",
   "id": "c2382a74-df04-4445-8b6f-05f62e87d27a",
   "metadata": {},
   "source": [
    "To interact with a browser using Python, you can use a library like Selenium, which allows you to automate web browsing activities.\n",
    "Steps:\n",
    "1. Install Selenium: `pip install selenium`\n",
    "2. Download a WebDriver: Chrome webdriver\n",
    "3. Write the Code"
   ]
  },
  {
   "cell_type": "markdown",
   "id": "e225caab-98e2-449a-a2b9-f88cd3f32127",
   "metadata": {},
   "source": [
    "## Chromedriver\n",
    "1. Open Google Chrome, Go to the menu → Help → About Google Chrome. Note the version number\n",
    "2. Go to the official ChromeDriver download pageand find the Matching Version.\n",
    "3. Extract and Save the zip file in a directory\n",
    "4. Add the directory to the system Environment Variables"
   ]
  },
  {
   "cell_type": "code",
   "execution_count": 15,
   "id": "29cb6458-098e-4166-9919-4c45943cde85",
   "metadata": {},
   "outputs": [],
   "source": [
    "from selenium import webdriver\n",
    "from timeit import default_timer as timer"
   ]
  },
  {
   "cell_type": "code",
   "execution_count": 16,
   "id": "a486997d-5281-4e76-b84c-7d49c97408e7",
   "metadata": {},
   "outputs": [
    {
     "name": "stdout",
     "output_type": "stream",
     "text": [
      "2.790732699999353\n"
     ]
    }
   ],
   "source": [
    "start = timer()\n",
    "driver = webdriver.Chrome()\n",
    "driver.get(\"https://www.varzesh3.com\")\n",
    "end = timer()\n",
    "print(end - start)"
   ]
  },
  {
   "cell_type": "code",
   "execution_count": 17,
   "id": "963f6218-4561-43ec-8468-588b4d37583d",
   "metadata": {},
   "outputs": [],
   "source": [
    "driver.quit()"
   ]
  },
  {
   "cell_type": "code",
   "execution_count": null,
   "id": "176fc8e2-f6fb-4ff2-bef2-1d1bc8b7441c",
   "metadata": {},
   "outputs": [],
   "source": []
  }
 ],
 "metadata": {
  "kernelspec": {
   "display_name": "Python 3 (ipykernel)",
   "language": "python",
   "name": "python3"
  },
  "language_info": {
   "codemirror_mode": {
    "name": "ipython",
    "version": 3
   },
   "file_extension": ".py",
   "mimetype": "text/x-python",
   "name": "python",
   "nbconvert_exporter": "python",
   "pygments_lexer": "ipython3",
   "version": "3.11.0"
  }
 },
 "nbformat": 4,
 "nbformat_minor": 5
}
